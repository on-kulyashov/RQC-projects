{
  "nbformat": 4,
  "nbformat_minor": 0,
  "metadata": {
    "colab": {
      "name": "fermions.ipynb",
      "provenance": [],
      "collapsed_sections": [],
      "authorship_tag": "ABX9TyNxsQVE/jMGX0DbBKnbsBg1",
      "include_colab_link": true
    },
    "kernelspec": {
      "name": "python3",
      "display_name": "Python 3"
    }
  },
  "cells": [
    {
      "cell_type": "markdown",
      "metadata": {
        "id": "view-in-github",
        "colab_type": "text"
      },
      "source": [
        "<a href=\"https://colab.research.google.com/github/on-kulyashov/RQC-projects/blob/main/fermions.ipynb\" target=\"_parent\"><img src=\"https://colab.research.google.com/assets/colab-badge.svg\" alt=\"Open In Colab\"/></a>"
      ]
    },
    {
      "cell_type": "code",
      "metadata": {
        "id": "gCJKXgSDN2b1",
        "colab": {
          "base_uri": "https://localhost:8080/",
          "height": 1000
        },
        "outputId": "fe54f6a5-4dc2-4c63-c839-5e3d81f53841"
      },
      "source": [
        "import numpy as np\n",
        "from scipy.linalg import *\n",
        "import matplotlib.pyplot as plt\n",
        "from scipy.optimize import curve_fit\n",
        "\n",
        "# np.set_printoptions(precision=2)\n",
        "\n",
        "\n",
        "with open('test_fermi') as f:\n",
        "    h = list((f.readline()).split(\" \"))\n",
        "    j = list((f.readline()).split(\" \"))\n",
        "    T = float(f.readline())\n",
        "n = len(h)\n",
        "\n",
        "# n = 50\n",
        "hmax = 0.1\n",
        "T1, T2 = 1, 3\n",
        "# np.random.seed(575)\n",
        "# h = np.random.uniform(0, hmax, size=n)\n",
        "# j = np.random.uniform(size=(n-1))\n",
        "# T = np.random.uniform(T1,T2)\n",
        "# with open('test_fermi', \"w\") as f: # for first compilation change w to x\n",
        "#     f.write(str(h) + \" \\n \" + str(j) + \" \\n \" + str(T))\n",
        "\n",
        "\n",
        "def hamiltonian(h, j):\n",
        "    mid = np.zeros((n, n))\n",
        "    up = np.zeros((n, n))\n",
        "    dn = np.zeros((n, n))\n",
        "    for i in range(n):\n",
        "        mid[i][i] = float(h[i])\n",
        "    for i in range(n-1):\n",
        "        up[i][i+1] = float(j[i])\n",
        "        dn[i+1][i] = float(j[i])\n",
        "    a = mid - up - dn\n",
        "    b = up - dn\n",
        "    return np.block([[a, b], [-b, -a]])\n",
        "\n",
        "\n",
        "e, u = np.linalg.eig(hamiltonian(h, j))\n",
        "idx = np.argsort(e)\n",
        "e = e[idx][::-1]\n",
        "u = u[:,idx][::-1]\n",
        "u1 = u[:,:n]\n",
        "u2 = np.block([[u1[n:2*n,:]], [u1[:n,:]]])\n",
        "u_sum = u1 + u2\n",
        "u_diff = u1 - u2\n",
        "e_dens = np.diag(1 / (1 + np.exp(2 * e[:n] / T)))\n",
        "phi = np.linalg.inv(u_sum[:n,:])\n",
        "psi = np.linalg.inv(u_diff[:n,:])\n",
        "g = -np.matmul(np.transpose(psi), np.matmul((np.eye(n) - 2*e_dens), phi))\n",
        "print(\"g = \\n{}\".format(np.round(g,2)))\n",
        "\n",
        "def s(i0, j0):\n",
        "    i = min(i0, j0)\n",
        "    j = max(i0, j0)\n",
        "    wick = g[i:j, (i+1):(j+1)]\n",
        "    return np.linalg.det(wick)\n",
        "\n",
        "\n",
        "def fit_func(x, l):\n",
        "    return np.exp(-x/l)\n",
        "\n",
        "start = 0\n",
        "finish = n\n",
        "correlations = np.array([s(start, x) for x in range(start, finish)])\n",
        "dist = np.arange(len(correlations))\n",
        "popt, pcov = curve_fit(fit_func, dist, correlations)\n",
        "plt.plot(dist, correlations, 'r-', linewidth=2.0)\n",
        "plt.plot(dist, fit_func(dist, *popt), 'r--', linewidth=2.0)\n",
        "plt.xlabel(\"distance\")\n",
        "plt.ylabel(\"Corr(dist)\")\n",
        "plt.legend([\"Correlations\", \"Exponential fit, l = {}\".format(*np.round(popt, 2))])\n",
        "plt.title(\"H_max / J_max = {}, T between {}, {}\".format(hmax, T1, T2))\n",
        "plt.grid()\n",
        "plt.show()"
      ],
      "execution_count": null,
      "outputs": [
        {
          "output_type": "stream",
          "text": [
            "g = \n",
            "[[nan+nanj nan+nanj nan+nanj nan+nanj nan+nanj nan+nanj nan+nanj nan+nanj\n",
            "  nan+nanj nan+nanj nan+nanj nan+nanj nan+nanj nan+nanj nan+nanj]\n",
            " [nan+nanj nan+nanj nan+nanj nan+nanj nan+nanj nan+nanj nan+nanj nan+nanj\n",
            "  nan+nanj nan+nanj nan+nanj nan+nanj nan+nanj nan+nanj nan+nanj]\n",
            " [nan+nanj nan+nanj nan+nanj nan+nanj nan+nanj nan+nanj nan+nanj nan+nanj\n",
            "  nan+nanj nan+nanj nan+nanj nan+nanj nan+nanj nan+nanj nan+nanj]\n",
            " [nan+nanj nan+nanj nan+nanj nan+nanj nan+nanj nan+nanj nan+nanj nan+nanj\n",
            "  nan+nanj nan+nanj nan+nanj nan+nanj nan+nanj nan+nanj nan+nanj]\n",
            " [nan+nanj nan+nanj nan+nanj nan+nanj nan+nanj nan+nanj nan+nanj nan+nanj\n",
            "  nan+nanj nan+nanj nan+nanj nan+nanj nan+nanj nan+nanj nan+nanj]\n",
            " [nan+nanj nan+nanj nan+nanj nan+nanj nan+nanj nan+nanj nan+nanj nan+nanj\n",
            "  nan+nanj nan+nanj nan+nanj nan+nanj nan+nanj nan+nanj nan+nanj]\n",
            " [nan+nanj nan+nanj nan+nanj nan+nanj nan+nanj nan+nanj nan+nanj nan+nanj\n",
            "  nan+nanj nan+nanj nan+nanj nan+nanj nan+nanj nan+nanj nan+nanj]\n",
            " [nan+nanj nan+nanj nan+nanj nan+nanj nan+nanj nan+nanj nan+nanj nan+nanj\n",
            "  nan+nanj nan+nanj nan+nanj nan+nanj nan+nanj nan+nanj nan+nanj]\n",
            " [nan+nanj nan+nanj nan+nanj nan+nanj nan+nanj nan+nanj nan+nanj nan+nanj\n",
            "  nan+nanj nan+nanj nan+nanj nan+nanj nan+nanj nan+nanj nan+nanj]\n",
            " [nan+nanj nan+nanj nan+nanj nan+nanj nan+nanj nan+nanj nan+nanj nan+nanj\n",
            "  nan+nanj nan+nanj nan+nanj nan+nanj nan+nanj nan+nanj nan+nanj]\n",
            " [nan+nanj nan+nanj nan+nanj nan+nanj nan+nanj nan+nanj nan+nanj nan+nanj\n",
            "  nan+nanj nan+nanj nan+nanj nan+nanj nan+nanj nan+nanj nan+nanj]\n",
            " [nan+nanj nan+nanj nan+nanj nan+nanj nan+nanj nan+nanj nan+nanj nan+nanj\n",
            "  nan+nanj nan+nanj nan+nanj nan+nanj nan+nanj nan+nanj nan+nanj]\n",
            " [nan+nanj nan+nanj nan+nanj nan+nanj nan+nanj nan+nanj nan+nanj nan+nanj\n",
            "  nan+nanj nan+nanj nan+nanj nan+nanj nan+nanj nan+nanj nan+nanj]\n",
            " [nan+nanj nan+nanj nan+nanj nan+nanj nan+nanj nan+nanj nan+nanj nan+nanj\n",
            "  nan+nanj nan+nanj nan+nanj nan+nanj nan+nanj nan+nanj nan+nanj]\n",
            " [nan+nanj nan+nanj nan+nanj nan+nanj nan+nanj nan+nanj nan+nanj nan+nanj\n",
            "  nan+nanj nan+nanj nan+nanj nan+nanj nan+nanj nan+nanj nan+nanj]]\n"
          ],
          "name": "stdout"
        },
        {
          "output_type": "stream",
          "text": [
            "/usr/local/lib/python3.6/dist-packages/ipykernel_launcher.py:48: RuntimeWarning: overflow encountered in exp\n",
            "/usr/local/lib/python3.6/dist-packages/ipykernel_launcher.py:48: RuntimeWarning: invalid value encountered in true_divide\n",
            "/usr/local/lib/python3.6/dist-packages/numpy/linalg/linalg.py:2116: RuntimeWarning: invalid value encountered in det\n",
            "  r = _umath_linalg.det(a, signature=signature)\n",
            "/usr/local/lib/python3.6/dist-packages/numpy/core/_asarray.py:85: ComplexWarning: Casting complex values to real discards the imaginary part\n",
            "  return array(a, dtype, copy=False, order=order)\n"
          ],
          "name": "stderr"
        },
        {
          "output_type": "error",
          "ename": "ValueError",
          "evalue": "ignored",
          "traceback": [
            "\u001b[0;31m---------------------------------------------------------------------------\u001b[0m",
            "\u001b[0;31mValueError\u001b[0m                                Traceback (most recent call last)",
            "\u001b[0;32m<ipython-input-69-5a2227969264>\u001b[0m in \u001b[0;36m<module>\u001b[0;34m()\u001b[0m\n\u001b[1;32m     66\u001b[0m \u001b[0mcorrelations\u001b[0m \u001b[0;34m=\u001b[0m \u001b[0mnp\u001b[0m\u001b[0;34m.\u001b[0m\u001b[0marray\u001b[0m\u001b[0;34m(\u001b[0m\u001b[0;34m[\u001b[0m\u001b[0ms\u001b[0m\u001b[0;34m(\u001b[0m\u001b[0mstart\u001b[0m\u001b[0;34m,\u001b[0m \u001b[0mx\u001b[0m\u001b[0;34m)\u001b[0m \u001b[0;32mfor\u001b[0m \u001b[0mx\u001b[0m \u001b[0;32min\u001b[0m \u001b[0mrange\u001b[0m\u001b[0;34m(\u001b[0m\u001b[0mstart\u001b[0m\u001b[0;34m,\u001b[0m \u001b[0mfinish\u001b[0m\u001b[0;34m)\u001b[0m\u001b[0;34m]\u001b[0m\u001b[0;34m)\u001b[0m\u001b[0;34m\u001b[0m\u001b[0;34m\u001b[0m\u001b[0m\n\u001b[1;32m     67\u001b[0m \u001b[0mdist\u001b[0m \u001b[0;34m=\u001b[0m \u001b[0mnp\u001b[0m\u001b[0;34m.\u001b[0m\u001b[0marange\u001b[0m\u001b[0;34m(\u001b[0m\u001b[0mlen\u001b[0m\u001b[0;34m(\u001b[0m\u001b[0mcorrelations\u001b[0m\u001b[0;34m)\u001b[0m\u001b[0;34m)\u001b[0m\u001b[0;34m\u001b[0m\u001b[0;34m\u001b[0m\u001b[0m\n\u001b[0;32m---> 68\u001b[0;31m \u001b[0mpopt\u001b[0m\u001b[0;34m,\u001b[0m \u001b[0mpcov\u001b[0m \u001b[0;34m=\u001b[0m \u001b[0mcurve_fit\u001b[0m\u001b[0;34m(\u001b[0m\u001b[0mfit_func\u001b[0m\u001b[0;34m,\u001b[0m \u001b[0mdist\u001b[0m\u001b[0;34m,\u001b[0m \u001b[0mcorrelations\u001b[0m\u001b[0;34m)\u001b[0m\u001b[0;34m\u001b[0m\u001b[0;34m\u001b[0m\u001b[0m\n\u001b[0m\u001b[1;32m     69\u001b[0m \u001b[0mplt\u001b[0m\u001b[0;34m.\u001b[0m\u001b[0mplot\u001b[0m\u001b[0;34m(\u001b[0m\u001b[0mdist\u001b[0m\u001b[0;34m,\u001b[0m \u001b[0mcorrelations\u001b[0m\u001b[0;34m,\u001b[0m \u001b[0;34m'r-'\u001b[0m\u001b[0;34m,\u001b[0m \u001b[0mlinewidth\u001b[0m\u001b[0;34m=\u001b[0m\u001b[0;36m2.0\u001b[0m\u001b[0;34m)\u001b[0m\u001b[0;34m\u001b[0m\u001b[0;34m\u001b[0m\u001b[0m\n\u001b[1;32m     70\u001b[0m \u001b[0mplt\u001b[0m\u001b[0;34m.\u001b[0m\u001b[0mplot\u001b[0m\u001b[0;34m(\u001b[0m\u001b[0mdist\u001b[0m\u001b[0;34m,\u001b[0m \u001b[0mfit_func\u001b[0m\u001b[0;34m(\u001b[0m\u001b[0mdist\u001b[0m\u001b[0;34m,\u001b[0m \u001b[0;34m*\u001b[0m\u001b[0mpopt\u001b[0m\u001b[0;34m)\u001b[0m\u001b[0;34m,\u001b[0m \u001b[0;34m'r--'\u001b[0m\u001b[0;34m,\u001b[0m \u001b[0mlinewidth\u001b[0m\u001b[0;34m=\u001b[0m\u001b[0;36m2.0\u001b[0m\u001b[0;34m)\u001b[0m\u001b[0;34m\u001b[0m\u001b[0;34m\u001b[0m\u001b[0m\n",
            "\u001b[0;32m/usr/local/lib/python3.6/dist-packages/scipy/optimize/minpack.py\u001b[0m in \u001b[0;36mcurve_fit\u001b[0;34m(f, xdata, ydata, p0, sigma, absolute_sigma, check_finite, bounds, method, jac, **kwargs)\u001b[0m\n\u001b[1;32m    711\u001b[0m     \u001b[0;31m# NaNs can not be handled\u001b[0m\u001b[0;34m\u001b[0m\u001b[0;34m\u001b[0m\u001b[0;34m\u001b[0m\u001b[0m\n\u001b[1;32m    712\u001b[0m     \u001b[0;32mif\u001b[0m \u001b[0mcheck_finite\u001b[0m\u001b[0;34m:\u001b[0m\u001b[0;34m\u001b[0m\u001b[0;34m\u001b[0m\u001b[0m\n\u001b[0;32m--> 713\u001b[0;31m         \u001b[0mydata\u001b[0m \u001b[0;34m=\u001b[0m \u001b[0mnp\u001b[0m\u001b[0;34m.\u001b[0m\u001b[0masarray_chkfinite\u001b[0m\u001b[0;34m(\u001b[0m\u001b[0mydata\u001b[0m\u001b[0;34m,\u001b[0m \u001b[0mfloat\u001b[0m\u001b[0;34m)\u001b[0m\u001b[0;34m\u001b[0m\u001b[0;34m\u001b[0m\u001b[0m\n\u001b[0m\u001b[1;32m    714\u001b[0m     \u001b[0;32melse\u001b[0m\u001b[0;34m:\u001b[0m\u001b[0;34m\u001b[0m\u001b[0;34m\u001b[0m\u001b[0m\n\u001b[1;32m    715\u001b[0m         \u001b[0mydata\u001b[0m \u001b[0;34m=\u001b[0m \u001b[0mnp\u001b[0m\u001b[0;34m.\u001b[0m\u001b[0masarray\u001b[0m\u001b[0;34m(\u001b[0m\u001b[0mydata\u001b[0m\u001b[0;34m,\u001b[0m \u001b[0mfloat\u001b[0m\u001b[0;34m)\u001b[0m\u001b[0;34m\u001b[0m\u001b[0;34m\u001b[0m\u001b[0m\n",
            "\u001b[0;32m/usr/local/lib/python3.6/dist-packages/numpy/lib/function_base.py\u001b[0m in \u001b[0;36masarray_chkfinite\u001b[0;34m(a, dtype, order)\u001b[0m\n\u001b[1;32m    497\u001b[0m     \u001b[0;32mif\u001b[0m \u001b[0ma\u001b[0m\u001b[0;34m.\u001b[0m\u001b[0mdtype\u001b[0m\u001b[0;34m.\u001b[0m\u001b[0mchar\u001b[0m \u001b[0;32min\u001b[0m \u001b[0mtypecodes\u001b[0m\u001b[0;34m[\u001b[0m\u001b[0;34m'AllFloat'\u001b[0m\u001b[0;34m]\u001b[0m \u001b[0;32mand\u001b[0m \u001b[0;32mnot\u001b[0m \u001b[0mnp\u001b[0m\u001b[0;34m.\u001b[0m\u001b[0misfinite\u001b[0m\u001b[0;34m(\u001b[0m\u001b[0ma\u001b[0m\u001b[0;34m)\u001b[0m\u001b[0;34m.\u001b[0m\u001b[0mall\u001b[0m\u001b[0;34m(\u001b[0m\u001b[0;34m)\u001b[0m\u001b[0;34m:\u001b[0m\u001b[0;34m\u001b[0m\u001b[0;34m\u001b[0m\u001b[0m\n\u001b[1;32m    498\u001b[0m         raise ValueError(\n\u001b[0;32m--> 499\u001b[0;31m             \"array must not contain infs or NaNs\")\n\u001b[0m\u001b[1;32m    500\u001b[0m     \u001b[0;32mreturn\u001b[0m \u001b[0ma\u001b[0m\u001b[0;34m\u001b[0m\u001b[0;34m\u001b[0m\u001b[0m\n\u001b[1;32m    501\u001b[0m \u001b[0;34m\u001b[0m\u001b[0m\n",
            "\u001b[0;31mValueError\u001b[0m: array must not contain infs or NaNs"
          ]
        }
      ]
    },
    {
      "cell_type": "code",
      "metadata": {
        "id": "3anc5PciNTuq"
      },
      "source": [
        ""
      ],
      "execution_count": null,
      "outputs": []
    }
  ]
}